{
  "nbformat": 4,
  "nbformat_minor": 0,
  "metadata": {
    "colab": {
      "provenance": []
    },
    "kernelspec": {
      "name": "python3",
      "display_name": "Python 3"
    },
    "language_info": {
      "name": "python"
    }
  },
  "cells": [
    {
      "cell_type": "markdown",
      "source": [
        "<a href=\"https://colab.research.google.com/drive/1p7CfHfWGj61rBE8U_uih-IIW98kr3nuw?usp=sharing\" target=\"_parent\"><img src=\"https://colab.research.google.com/assets/colab-badge.svg\" alt=\"Open In Colab\"></a>\n",
        "\n",
        "### ⚙️ Automatic Reasoning and Tool-Use (ART)\n",
        "\n",
        "ART is an advanced prompting method that combines reasoning with automated tool selection and use.\n",
        "\n",
        "### Key points:\n",
        "\n",
        "* 🔑 **Core concept:** Enable language models to autonomously reason about problems and select/use appropriate tools.\n",
        "\n",
        "* 🛠️ **Components:**\n",
        "  * Reasoning module\n",
        "  * Tool selection mechanism\n",
        "  * Tool use interface\n",
        "\n",
        "* ⚙️ **Process:**\n",
        "  * Analyze the problem through reasoning\n",
        "  * Identify and select relevant tools\n",
        "  * Use tools to gather information or perform actions\n",
        "  * Integrate tool outputs into the reasoning process\n",
        "\n",
        "* 🌟 **Advantages:**\n",
        "  * Enhances problem-solving capabilities\n",
        "  * Allows for more complex, multi-step tasks\n",
        "\n",
        "* 💼 **Applications:**\n",
        "  * Data analysis\n",
        "  * Web-based research\n",
        "  * Complex decision-making scenarios\n",
        "\n",
        "* 🚀 **Implementation:**\n",
        "  * Define a set of available tools and their functions\n",
        "  * Design prompts that encourage tool consideration\n",
        "  * Implement feedback loops between reasoning and tool use\n",
        "\n",
        "* ⚖️ **Challenges:**\n",
        "  * Ensuring appropriate tool selection\n",
        "  * Managing context across multiple tool uses\n",
        "\n",
        "* 📝 **Example structure:**\n",
        "  * Thought: [Reasoning about the problem]\n",
        "  * Tool Selection: [Choose appropriate tool]\n",
        "  * Tool Use: [Apply selected tool]\n",
        "  * Integration: [Incorporate tool output into reasoning]"
      ],
      "metadata": {
        "id": "Y2eqHW0TK87s"
      }
    },
    {
      "cell_type": "code",
      "source": [
        "!pip install -q -U langchain-groq==0.2.4"
      ],
      "metadata": {
        "colab": {
          "base_uri": "https://localhost:8080/"
        },
        "id": "XNrPX8MZJm9e",
        "outputId": "a79577d0-400c-4610-db77-5652b323ce1b"
      },
      "execution_count": 1,
      "outputs": [
        {
          "output_type": "stream",
          "name": "stdout",
          "text": [
            "\u001b[?25l   \u001b[90m━━━━━━━━━━━━━━━━━━━━━━━━━━━━━━━━━━━━━━━━\u001b[0m \u001b[32m0.0/121.9 kB\u001b[0m \u001b[31m?\u001b[0m eta \u001b[36m-:--:--\u001b[0m\r\u001b[2K   \u001b[90m━━━━━━━━━━━━━━━━━━━━━━━━━━━━━━━━━━━━━━━━\u001b[0m \u001b[32m121.9/121.9 kB\u001b[0m \u001b[31m3.7 MB/s\u001b[0m eta \u001b[36m0:00:00\u001b[0m\n",
            "\u001b[?25h"
          ]
        }
      ]
    },
    {
      "cell_type": "code",
      "source": [
        "from langchain_groq import ChatGroq\n",
        "from langchain.prompts import ChatPromptTemplate\n",
        "from IPython.display import display, Markdown\n",
        "from datetime import datetime, date\n",
        "import json"
      ],
      "metadata": {
        "id": "gOLahJCEJv6_"
      },
      "execution_count": 6,
      "outputs": []
    },
    {
      "cell_type": "code",
      "source": [
        "import os\n",
        "import getpass"
      ],
      "metadata": {
        "id": "I6qvHWQsJxWq"
      },
      "execution_count": 3,
      "outputs": []
    },
    {
      "cell_type": "markdown",
      "source": [
        "### 🔑 Provide Groq API Key\n",
        "\n",
        "- [Groq API Key](https://console.groq.com/keys)\n"
      ],
      "metadata": {
        "id": "GaoPiWagJyoV"
      }
    },
    {
      "cell_type": "code",
      "source": [
        "os.environ[\"GROQ_API_KEY\"] = getpass.getpass()"
      ],
      "metadata": {
        "colab": {
          "base_uri": "https://localhost:8080/"
        },
        "id": "f-Ioab8HJ037",
        "outputId": "f6df82e9-e324-4df1-aca5-c79734793113"
      },
      "execution_count": 4,
      "outputs": [
        {
          "name": "stdout",
          "output_type": "stream",
          "text": [
            "··········\n"
          ]
        }
      ]
    },
    {
      "cell_type": "code",
      "source": [
        "llm = ChatGroq(\n",
        "    model=\"llama3-8b-8192\",\n",
        "    temperature=0.5\n",
        ")"
      ],
      "metadata": {
        "id": "RzCcry2GJ2Z1"
      },
      "execution_count": 5,
      "outputs": []
    },
    {
      "cell_type": "code",
      "source": [
        "# Define available tools\n",
        "def calculate_days(date_string):\n",
        "    target_date = datetime.strptime(date_string, \"%Y-%m-%d\").date()\n",
        "    current_date = date.today()\n",
        "    return (target_date - current_date).days\n",
        "\n",
        "tools = {\n",
        "    \"calculator\": lambda x: eval(x),\n",
        "    \"date\": lambda: date.today().strftime(\"%Y-%m-%d\"),\n",
        "    \"weather\": lambda city: f\"The weather in {city} is sunny with a high of 25°C.\",\n",
        "    \"days_between\": calculate_days\n",
        "}\n",
        "\n",
        "# ART Prompt\n",
        "art_prompt = ChatPromptTemplate.from_messages(\n",
        "    [\n",
        "        (\"system\", \"\"\"You are an AI assistant capable of breaking down complex tasks, identifying necessary tools, and applying them to solve problems. You have access to the following tools:\n",
        "          1. calculator: Performs mathematical calculations. Input should be a mathematical expression.\n",
        "          2. date: Returns the current date.\n",
        "          3. weather: Provides weather information for a given city.\n",
        "          4. days_between: Calculates the number of days between the current date and a given date (format: YYYY-MM-DD).\n",
        "          For each step in your reasoning, if a tool is needed, specify it in the following JSON format:\n",
        "          {{\"tool\": \"tool_name\", \"input\": \"tool_input\"}}\n",
        "          Your final answer should not be in JSON format.\"\"\"),\n",
        "        (\n",
        "            \"human\", \"\"\"Task: {task}\n",
        "              Break down this task and solve it step by step. For each step, explain your reasoning and use tools when necessary.\n",
        "              Your response:\"\"\"\n",
        "        ),\n",
        "    ]\n",
        ")\n",
        "\n",
        "def art_response(task):\n",
        "    chain = art_prompt | llm\n",
        "    raw_response = chain.invoke({\"task\": task}).content\n",
        "    # Process the response to use tools\n",
        "    lines = raw_response.split(\"\\n\")\n",
        "    processed_response = []\n",
        "\n",
        "    for line in lines:\n",
        "        if line.strip().startswith(\"{\") and line.strip().endswith(\"}\"):\n",
        "            try:\n",
        "                tool_call = json.loads(line.strip())\n",
        "                if \"tool\" in tool_call and \"input\" in tool_call:\n",
        "                    if tool_call[\"tool\"] in tools:\n",
        "                        # Handle different tools properly\n",
        "                        if tool_call[\"tool\"] == \"date\":\n",
        "                            tool_result = tools[tool_call[\"tool\"]]()\n",
        "                        else:\n",
        "                            tool_result = tools[tool_call[\"tool\"]](tool_call[\"input\"])\n",
        "\n",
        "                        processed_response.append(\n",
        "                            f\"Using {tool_call['tool']}: {tool_call['input']}\"\n",
        "                        )\n",
        "                        processed_response.append(f\"Result: {tool_result}\")\n",
        "                    else:\n",
        "                        processed_response.append(\n",
        "                            f\"Error: Tool '{tool_call['tool']}' not found.\"\n",
        "                        )\n",
        "                else:\n",
        "                    processed_response.append(line)\n",
        "            except json.JSONDecodeError:\n",
        "                processed_response.append(line)\n",
        "        else:\n",
        "            processed_response.append(line)\n",
        "\n",
        "    return \"\\n\".join(processed_response)\n",
        "\n"
      ],
      "metadata": {
        "id": "RCjbg-xkJ4cY"
      },
      "execution_count": 11,
      "outputs": []
    },
    {
      "cell_type": "code",
      "source": [
        "# Example usage\n",
        "task = \"Calculate the number of days between the current date and July 4, 2025. Then, provide the weather forecast for New York City.\"\n",
        "response = art_response(task)\n",
        "display(\n",
        "    Markdown(\n",
        "        f\"\"\"**Automatic Reasoning and Tool-Use (ART) Response:**\n",
        "Task: {task}\n",
        "{response}\"\"\"\n",
        "    )\n",
        ")"
      ],
      "metadata": {
        "id": "kY1AoektWzh_",
        "colab": {
          "base_uri": "https://localhost:8080/",
          "height": 379
        },
        "outputId": "bf33d070-2303-4a8c-e70e-856490180844"
      },
      "execution_count": 12,
      "outputs": [
        {
          "output_type": "display_data",
          "data": {
            "text/plain": [
              "<IPython.core.display.Markdown object>"
            ],
            "text/markdown": "**Automatic Reasoning and Tool-Use (ART) Response:**\nTask: Calculate the number of days between the current date and July 4, 2025. Then, provide the weather forecast for New York City.\nLet's break down the task into smaller steps and solve it step by step.\n\nStep 1: Calculate the number of days between the current date and July 4, 2025.\n\nTo do this, we need to calculate the difference between the current date and July 4, 2025. We can use the \"date\" tool to get the current date, and then use the \"days_between\" tool to calculate the number of days between the current date and July 4, 2025.\n\nUsing date: \nResult: 2025-02-25\n\nThis will give us the current date. Let's assume the current date is 2023-09-01.\n\nNext, we can use the \"days_between\" tool to calculate the number of days between the current date (2023-09-01) and July 4, 2025.\n\nUsing days_between: 2025-07-04\nResult: 129\n\nThis will give us the number of days between the current date and July 4, 2025.\n\nStep 2: Provide the weather forecast for New York City.\n\nTo do this, we can use the \"weather\" tool and input the city name as \"New York City\".\n\nUsing weather: New York City\nResult: The weather in New York City is sunny with a high of 25°C.\n\nThis will give us the current weather forecast for New York City.\n\nIn conclusion, the number of days between the current date (2023-09-01) and July 4, 2025 is 1091 days. The current weather forecast for New York City is [insert weather forecast here]."
          },
          "metadata": {}
        }
      ]
    },
    {
      "cell_type": "code",
      "source": [],
      "metadata": {
        "id": "ofPh8APtYbCT"
      },
      "execution_count": null,
      "outputs": []
    }
  ]
}