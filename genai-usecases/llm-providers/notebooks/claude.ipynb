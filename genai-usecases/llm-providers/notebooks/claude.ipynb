{
  "cells": [
    {
      "cell_type": "markdown",
      "metadata": {
        "id": "HxxOWz9dpsYj"
      },
      "source": [
        "<a href=\"https://colab.research.google.com/drive/1l7B3kaS7BswwbIu4TBrLTX_uqraZjqho?usp=sharing\" target=\"_parent\"><img src=\"https://colab.research.google.com/assets/colab-badge.svg\" alt=\"Open In Colab\"></a>\n",
        "\n",
        "### Quick Start: Using Anthropic's Claude LLM API with LangChain\n",
        "Easily connect Claude with LangChain AI framework to build and run AI based applications.\n",
        "\n",
        "1. [Get Started with Claude LLM API](https://www.anthropic.com/claude/)\n",
        "2. [Learn LangChain Basics](https://python.langchain.com/docs/tutorials/)\n",
        "\n"
      ]
    },
    {
      "cell_type": "markdown",
      "metadata": {
        "id": "Y3axTI0sp5Hg"
      },
      "source": [
        "### Install required libraries"
      ]
    },
    {
      "cell_type": "code",
      "execution_count": 1,
      "metadata": {
        "id": "ShxTNxM5gqtr"
      },
      "outputs": [],
      "source": [
        "!pip install -qU langchain-anthropic>=0.3.19"
      ]
    },
    {
      "cell_type": "markdown",
      "metadata": {
        "id": "9jJ1vqs-p_Zx"
      },
      "source": [
        "### Import related libraries"
      ]
    },
    {
      "cell_type": "code",
      "execution_count": 2,
      "metadata": {
        "id": "RL-3LsYogoH5"
      },
      "outputs": [],
      "source": [
        "from langchain_anthropic import ChatAnthropic\n",
        "import getpass\n",
        "import os"
      ]
    },
    {
      "cell_type": "markdown",
      "metadata": {
        "id": "F6UeDlrgqI2A"
      },
      "source": [
        "#### Provide a Anthropic's Claude API key (Paid one)\n",
        "\n",
        "[Anthropic API Key Generation Link](https://console.anthropic.com/settings/keys)\n",
        "\n",
        "\n"
      ]
    },
    {
      "cell_type": "code",
      "execution_count": null,
      "metadata": {
        "colab": {
          "base_uri": "https://localhost:8080/"
        },
        "id": "yobvrD3glfd4",
        "outputId": "a83be4ed-3ef1-41bc-eeee-8ee0e6a6591d"
      },
      "outputs": [
        {
          "name": "stdout",
          "output_type": "stream",
          "text": [
            "··········\n"
          ]
        }
      ],
      "source": [
        "os.environ[\"ANTHROPIC_API_KEY\"] = getpass.getpass()"
      ]
    },
    {
      "cell_type": "markdown",
      "metadata": {
        "id": "g5Ozvb5RZXN8"
      },
      "source": [
        "\n",
        "\n",
        "### Run the Program\n",
        "1. [LangChain Doc](https://python.langchain.com/docs/integrations/chat/google_generative_ai/)\n",
        "2. [Anthrppic Models](https://docs.anthropic.com/en/docs/about-claude/models/overview)\n",
        "\n",
        "#### Understanding the Parameters\n",
        "\n",
        "1. `temperature` → Think of this as creativity level.\n",
        "    - 0 = very strict, almost always gives the same answer.\n",
        "    - 1 = more random, tries different ways of answering.\n",
        "\n",
        "\n",
        "2. `top_p` → Imagine the model has a bag of possible next words.\n",
        "    - 0.9 means: only keep the words that together cover 90% of the likelihood, then pick from them.\n",
        "    - Helps cut off very unlikely/weird words.\n",
        "\n",
        "\n",
        "3. `top_k` → Another way of limiting choices.\n",
        "    - 40 means: only look at the 40 most likely words before picking one.\n",
        "    - Smaller k = safer, larger k = more variety.\n",
        "\n",
        "\n",
        "4. `max_output_tokens` → Maximum length of the answer.\n",
        "    - 512 = the model will stop once it has generated about 512 tokens (roughly 350-400 words)."
      ]
    },
    {
      "cell_type": "code",
      "execution_count": null,
      "metadata": {
        "id": "HHXlnTcxpi-8"
      },
      "outputs": [],
      "source": [
        "llm = ChatAnthropic(\n",
        "    model=\"claude-sonnet-4-20250514\",\n",
        "    temperature=0.5,\n",
        "    top_p=0.9,\n",
        "    top_k=40,\n",
        "    max_output_tokens=512\n",
        ")"
      ]
    },
    {
      "cell_type": "markdown",
      "metadata": {
        "id": "xxeotaTFMnLP"
      },
      "source": [
        "### A. Basic LLM Call"
      ]
    },
    {
      "cell_type": "code",
      "execution_count": null,
      "metadata": {
        "id": "RR2ZxUN0MLjR"
      },
      "outputs": [],
      "source": [
        "ai_msg = llm.invoke(\"Provide python code of sudoku\")\n",
        "print(ai_msg.content)"
      ]
    },
    {
      "cell_type": "markdown",
      "metadata": {
        "id": "JvZXO834Msiu"
      },
      "source": [
        "### B. Prompt Template Example with System and Human Roles"
      ]
    },
    {
      "cell_type": "code",
      "execution_count": null,
      "metadata": {
        "id": "f4OZQ-kvqNl5"
      },
      "outputs": [],
      "source": [
        "from langchain_core.prompts import ChatPromptTemplate\n",
        "\n",
        "prompt = ChatPromptTemplate.from_messages([\n",
        "    (\"system\", \"You are a helpful assistant that explains problems step-by-step.\"),\n",
        "    (\"human\", \"Solve this problem step by step: {problem}\"),\n",
        "])\n",
        "\n",
        "# Chaining Prompt Template with LLM\n",
        "chain = prompt | llm\n",
        "\n",
        "ai_msg = chain.invoke({\"problem\": \"Provide python code of sudoku\"})\n",
        "print(ai_msg.content)"
      ]
    }
  ],
  "metadata": {
    "colab": {
      "provenance": []
    },
    "kernelspec": {
      "display_name": "Python 3",
      "name": "python3"
    },
    "language_info": {
      "name": "python"
    }
  },
  "nbformat": 4,
  "nbformat_minor": 0
}
