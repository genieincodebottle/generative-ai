{
  "cells": [
    {
      "cell_type": "markdown",
      "metadata": {
        "id": "jfDt05fp1eqP"
      },
      "source": [
        "\n",
        "# How to Use Ollama at Google Colab  \n",
        " Using Ollama with Google Colab can be tricky! Sometimes our local systems lack the memory or CPU power needed for open-source LLMs. Google Colab offers free GPUs.\n",
        "\n",
        " Here's how to set it up:\n",
        "\n",
        "<br>\n",
        "\n",
        "1️⃣ `!pip install colab-xterm`\n",
        "\n",
        "\n",
        "2️⃣ `%load_ext colabxterm` This is an IPython command (indicated by the % symbol).It loads the colabxterm extension into the current Jupyter notebook environment. Once loaded, this extension allows you to use an interactive terminal within your Colab notebook.\n",
        "\n",
        "<br>\n",
        "\n",
        "(The purpose of both  commands is to set up a terminal environment within the Colab notebook. This can be useful for running command-line tools or interacting with the system in ways that aren't easily done through the standard Colab interface.)\n",
        "\n",
        "\n",
        "3️⃣ `!curl -fsSL https://ollama.com/install.sh | sh`\n",
        "\n",
        "\n",
        "4️⃣ `%xterm` (This opens a terminal in Colab. Run: ollama serve &)\n",
        "\n",
        "\n",
        "5️⃣ `!ollama pull llama3.1 > /dev/null 2>&1`\n",
        "\n",
        "<br>\n",
        "\n",
        "With these commands, you can access Ollama-based LLMs/models on Google Colab."
      ]
    },
    {
      "cell_type": "code",
      "execution_count": null,
      "metadata": {
        "id": "1tgc1KnW1nyH"
      },
      "outputs": [],
      "source": [
        "!pip install colab-xterm #https://pypi.org/project/colab-xterm/\n",
        "%load_ext colabxterm"
      ]
    },
    {
      "cell_type": "markdown",
      "metadata": {
        "id": "9hFuGXWq2W6I"
      },
      "source": [
        "# Ollama Installation\n",
        "\n",
        "This script installs Ollama on your system."
      ]
    },
    {
      "cell_type": "code",
      "execution_count": null,
      "metadata": {
        "id": "eKR2hVeoKP9a"
      },
      "outputs": [],
      "source": [
        "!curl -fsSL https://ollama.com/install.sh | sh"
      ]
    },
    {
      "cell_type": "markdown",
      "metadata": {
        "id": "lyrcXqJ52_bq"
      },
      "source": [
        "# Run `%xterm` Command in Google Colab\n",
        "\n",
        "* This command is used to open an interactive terminal session within a Google Colab notebook.\n",
        "\n",
        "* This allows you to execute command-line tools and interact with the system in ways that aren't easily done through the standard Colab interface.\n",
        "\n",
        "* Use the %xterm command to open the terminal: `%xterm`\n",
        "\n",
        "* Once the terminal is open, you can run any command as if you were using a local terminal. Run following command to start ollama inside colab\n",
        "\n",
        "  `ollama serve &`"
      ]
    },
    {
      "cell_type": "code",
      "execution_count": null,
      "metadata": {
        "id": "y8uMIKoUiQ7s"
      },
      "outputs": [],
      "source": [
        "%xterm"
      ]
    },
    {
      "cell_type": "markdown",
      "metadata": {
        "id": "gObowt7K3S0h"
      },
      "source": [
        "# Pull Meta's Llama3.1 LLM\n",
        "\n"
      ]
    },
    {
      "cell_type": "code",
      "execution_count": null,
      "metadata": {
        "id": "-gonJ3tiiY7s"
      },
      "outputs": [],
      "source": [
        "!ollama pull llama3.1 > /dev/null 2>&1"
      ]
    },
    {
      "cell_type": "markdown",
      "metadata": {
        "id": "0ifi-FiC3qf7"
      },
      "source": [
        "# Install Langchain and langchain-ollama libraries"
      ]
    },
    {
      "cell_type": "code",
      "execution_count": null,
      "metadata": {
        "id": "O5RXAVT9_XW0"
      },
      "outputs": [],
      "source": [
        "!pip install -q -U langchain langchain_community langchain-ollama"
      ]
    },
    {
      "cell_type": "markdown",
      "metadata": {
        "id": "hhxktS2n3xAS"
      },
      "source": [
        "# Use Llam3.1 model and langchain to get the LLM response"
      ]
    },
    {
      "cell_type": "code",
      "execution_count": null,
      "metadata": {
        "id": "5cpGA_ayKo4v"
      },
      "outputs": [],
      "source": [
        "from langchain_ollama import ChatOllama\n",
        "from langchain.prompts import PromptTemplate\n",
        "from langchain_core.output_parsers import StrOutputParser\n",
        "\n",
        "prompt = PromptTemplate(\n",
        "    template=\"\"\"You are an assistant for question-answering tasks.\n",
        "\n",
        "    If you don't know the answer, just say that you don't know.\n",
        "\n",
        "    Use three sentences maximum and keep the answer concise:\n",
        "    Question: {question}\n",
        "    Answer:\n",
        "    \"\"\",\n",
        "    input_variables=[\"question\"],\n",
        ")\n",
        "\n",
        "llm = ChatOllama(\n",
        "    model=\"llama3.1\",\n",
        "    temperature=0,\n",
        ")\n",
        "\n",
        "chain = prompt | llm | StrOutputParser()\n",
        "response = chain.invoke({\"question\": \"Why should we learn GenAI?\"})\n",
        "print(response)"
      ]
    },
    {
      "cell_type": "markdown",
      "metadata": {
        "id": "viwfWc4f4Gm2"
      },
      "source": [
        "# Display a formatted Markdown string in colab or jupyter notebook."
      ]
    },
    {
      "cell_type": "code",
      "execution_count": null,
      "metadata": {
        "id": "mQH05AUzS3WG"
      },
      "outputs": [],
      "source": [
        "from IPython.display import display, Markdown\n",
        "\n",
        "print(display(Markdown(response)))"
      ]
    }
  ],
  "metadata": {
    "accelerator": "GPU",
    "colab": {
      "gpuType": "T4",
      "provenance": []
    },
    "kernelspec": {
      "display_name": "Python 3",
      "name": "python3"
    },
    "language_info": {
      "name": "python"
    }
  },
  "nbformat": 4,
  "nbformat_minor": 0
}
